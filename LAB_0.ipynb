{
 "cells": [
  {
   "cell_type": "markdown",
   "metadata": {},
   "source": [
    "<img src=\"http://oci02.img.iteso.mx/identidad_de_instancia_2018/ITESO/Logos%20ITESO/Logo-ITESO-Principal.jpg\">"
   ]
  },
  {
   "cell_type": "markdown",
   "metadata": {},
   "source": [
    "<center> <font color= #004A94> <font size = 6> Lic. Ingeniería Financiera </font> <br> <br> <font color= #AABCBB> <font size = 4>I.F. Karen Violeta García Hernandez - if707178@iteso.mx </font>"
   ]
  },
  {
   "cell_type": "markdown",
   "metadata": {},
   "source": [
    "<center><font color=#50C8C4><font size=5> Laboratorio 0: Herramientas Computacionales </font> <br> <br>"
   ]
  },
  {
   "cell_type": "markdown",
   "metadata": {},
   "source": [
    "<center> <font color= #004A94 > <font size = 4> Primavera 2020 </font>  |  <font color= #004A94> <font size = 4> Repositorio: <a href='https://github.com/violetarcia/LAB_0_KVGH.git'>Link</a></font>"
   ]
  },
  {
   "cell_type": "markdown",
   "metadata": {},
   "source": [
    "---"
   ]
  },
  {
   "cell_type": "markdown",
   "metadata": {},
   "source": [
    "<div style=\"text-align:center\"><span style=\"color:#50C8C4; font-family:Georgia; font-size:2.2em;\"> Resumen </span></div>"
   ]
  },
  {
   "cell_type": "markdown",
   "metadata": {},
   "source": [
    "\n",
    "<p style = \"font-family: Calibri Light; font-size:1.3em;color:black; LINE-HEIGHT:25px\"> Este laboratorio sirve para generar nueva información de los precios a partir de los históricos en formato  OHLC (Open, High, Low, Close). Esta nueva información generada, la mayoría almacenada como nuevas columnas dentro del DataFrame que contiene los precios históricos OHLC, puede ser utilizada también como \"variables explicativas\" en modelos predictivos (ya sean de regresión o de clasificación). El enfóque de los cálculos que deberás de realizar para este laboratorio es \"estadístico\" utilizando información de las \"velas\".  También vas a poner en práctica algunos códigos simples para graficar utilizando la librería de Plotly, todo esto utilizando una lógica de organizar el código con base a \"funciones\" y scripts separados (algo bastante útil para proyectos aplicados de python). </p>"
   ]
  },
  {
   "cell_type": "markdown",
   "metadata": {},
   "source": [
    "---"
   ]
  },
  {
   "cell_type": "markdown",
   "metadata": {},
   "source": [
    "<div style=\"text-align:center\"><span style=\"color:#50C8C4; font-family:Georgia; font-size:2.2em;\"> Código </span></div>"
   ]
  },
  {
   "cell_type": "markdown",
   "metadata": {},
   "source": [
    "<p style = \"font-family: Calibri Light; font-size:1.3em;color:black; LINE-HEIGHT:25px\"> A continuación se desglosa el código con el cual se analiza la divisa eurodólar. Primero se empieza importando paqueterías y archivos que nos serán útiles: </p>"
   ]
  },
  {
   "cell_type": "code",
   "execution_count": 1,
   "metadata": {},
   "outputs": [],
   "source": [
    "import funciones as fn                              # Para procesamiento de datos\n",
    "import visualizaciones as vs                        # Para visualizacion de datos\n",
    "import pandas as pd                                 # Procesamiento de datos\n",
    "from datos import OA_Ak                             # Importar token para API de OANDA\n",
    "import matplotlib.pyplot as plt                     # Visualizar graficas básicas\n",
    "import plotly.express as px"
   ]
  },
  {
   "cell_type": "markdown",
   "metadata": {},
   "source": [
    "<p style = \"font-family: Calibri Light; font-size:1.3em;color:black; LINE-HEIGHT:25px\"> Después se descargan los precios del eurodólar desde  <a href='https://www1.oanda.com/forex-trading/analysis/economic-indicators/global/forex-rates/eur-usd'>OANDA </a> especificando  tanto temporalidad como fecha inicial y final; teniendo como resultado un DataFrame con la información de precios de Apertura, Máximo, Mínimo y Cierre (Open, High, Low, Close):</p>\n"
   ]
  },
  {
   "cell_type": "code",
   "execution_count": 2,
   "metadata": {},
   "outputs": [
    {
     "data": {
      "text/html": [
       "<div>\n",
       "<style scoped>\n",
       "    .dataframe tbody tr th:only-of-type {\n",
       "        vertical-align: middle;\n",
       "    }\n",
       "\n",
       "    .dataframe tbody tr th {\n",
       "        vertical-align: top;\n",
       "    }\n",
       "\n",
       "    .dataframe thead th {\n",
       "        text-align: right;\n",
       "    }\n",
       "</style>\n",
       "<table border=\"1\" class=\"dataframe\">\n",
       "  <thead>\n",
       "    <tr style=\"text-align: right;\">\n",
       "      <th></th>\n",
       "      <th>TimeStamp</th>\n",
       "      <th>Open</th>\n",
       "      <th>High</th>\n",
       "      <th>Low</th>\n",
       "      <th>Close</th>\n",
       "    </tr>\n",
       "  </thead>\n",
       "  <tbody>\n",
       "    <tr>\n",
       "      <th>0</th>\n",
       "      <td>2019-07-07 21:00:00+00:00</td>\n",
       "      <td>1.12248</td>\n",
       "      <td>1.12275</td>\n",
       "      <td>1.12240</td>\n",
       "      <td>1.12275</td>\n",
       "    </tr>\n",
       "    <tr>\n",
       "      <th>1</th>\n",
       "      <td>2019-07-07 22:00:00+00:00</td>\n",
       "      <td>1.12278</td>\n",
       "      <td>1.12292</td>\n",
       "      <td>1.12256</td>\n",
       "      <td>1.12288</td>\n",
       "    </tr>\n",
       "    <tr>\n",
       "      <th>2</th>\n",
       "      <td>2019-07-07 23:00:00+00:00</td>\n",
       "      <td>1.12286</td>\n",
       "      <td>1.12286</td>\n",
       "      <td>1.12266</td>\n",
       "      <td>1.12268</td>\n",
       "    </tr>\n",
       "    <tr>\n",
       "      <th>3</th>\n",
       "      <td>2019-07-08 00:00:00+00:00</td>\n",
       "      <td>1.12270</td>\n",
       "      <td>1.12298</td>\n",
       "      <td>1.12198</td>\n",
       "      <td>1.12212</td>\n",
       "    </tr>\n",
       "    <tr>\n",
       "      <th>4</th>\n",
       "      <td>2019-07-08 01:00:00+00:00</td>\n",
       "      <td>1.12214</td>\n",
       "      <td>1.12283</td>\n",
       "      <td>1.12210</td>\n",
       "      <td>1.12276</td>\n",
       "    </tr>\n",
       "    <tr>\n",
       "      <th>...</th>\n",
       "      <td>...</td>\n",
       "      <td>...</td>\n",
       "      <td>...</td>\n",
       "      <td>...</td>\n",
       "      <td>...</td>\n",
       "    </tr>\n",
       "    <tr>\n",
       "      <th>2616</th>\n",
       "      <td>2019-12-05 23:00:00+00:00</td>\n",
       "      <td>1.11043</td>\n",
       "      <td>1.11058</td>\n",
       "      <td>1.11040</td>\n",
       "      <td>1.11040</td>\n",
       "    </tr>\n",
       "    <tr>\n",
       "      <th>2617</th>\n",
       "      <td>2019-12-06 00:00:00+00:00</td>\n",
       "      <td>1.11042</td>\n",
       "      <td>1.11055</td>\n",
       "      <td>1.11030</td>\n",
       "      <td>1.11030</td>\n",
       "    </tr>\n",
       "    <tr>\n",
       "      <th>2618</th>\n",
       "      <td>2019-12-06 01:00:00+00:00</td>\n",
       "      <td>1.11033</td>\n",
       "      <td>1.11070</td>\n",
       "      <td>1.11033</td>\n",
       "      <td>1.11065</td>\n",
       "    </tr>\n",
       "    <tr>\n",
       "      <th>2619</th>\n",
       "      <td>2019-12-06 02:00:00+00:00</td>\n",
       "      <td>1.11068</td>\n",
       "      <td>1.11086</td>\n",
       "      <td>1.11066</td>\n",
       "      <td>1.11076</td>\n",
       "    </tr>\n",
       "    <tr>\n",
       "      <th>2620</th>\n",
       "      <td>2019-12-06 03:00:00+00:00</td>\n",
       "      <td>1.11074</td>\n",
       "      <td>1.11090</td>\n",
       "      <td>1.11070</td>\n",
       "      <td>1.11077</td>\n",
       "    </tr>\n",
       "  </tbody>\n",
       "</table>\n",
       "<p>2621 rows × 5 columns</p>\n",
       "</div>"
      ],
      "text/plain": [
       "                     TimeStamp     Open     High      Low    Close\n",
       "0    2019-07-07 21:00:00+00:00  1.12248  1.12275  1.12240  1.12275\n",
       "1    2019-07-07 22:00:00+00:00  1.12278  1.12292  1.12256  1.12288\n",
       "2    2019-07-07 23:00:00+00:00  1.12286  1.12286  1.12266  1.12268\n",
       "3    2019-07-08 00:00:00+00:00  1.12270  1.12298  1.12198  1.12212\n",
       "4    2019-07-08 01:00:00+00:00  1.12214  1.12283  1.12210  1.12276\n",
       "...                        ...      ...      ...      ...      ...\n",
       "2616 2019-12-05 23:00:00+00:00  1.11043  1.11058  1.11040  1.11040\n",
       "2617 2019-12-06 00:00:00+00:00  1.11042  1.11055  1.11030  1.11030\n",
       "2618 2019-12-06 01:00:00+00:00  1.11033  1.11070  1.11033  1.11065\n",
       "2619 2019-12-06 02:00:00+00:00  1.11068  1.11086  1.11066  1.11076\n",
       "2620 2019-12-06 03:00:00+00:00  1.11074  1.11090  1.11070  1.11077\n",
       "\n",
       "[2621 rows x 5 columns]"
      ]
     },
     "execution_count": 2,
     "metadata": {},
     "output_type": "execute_result"
    }
   ],
   "source": [
    "# Datos necesarios: token de OANDA\n",
    "OA_In = \"EUR_USD\"                   # Instrumento\n",
    "OA_Gn = \"H1\"                        # Granularidad de velas\n",
    "fini = pd.to_datetime(\"2019-07-06 00:00:00\").tz_localize('GMT')  # Fecha inicial\n",
    "ffin = pd.to_datetime(\"2019-12-06 00:00:00\").tz_localize('GMT')  # Fecha final\n",
    "\n",
    "# Descargar precios masivos\n",
    "df_ = fn.f_precios_masivos(p0_fini=fini, p1_ffin=ffin, p2_gran=OA_Gn, p3_inst=OA_In, p4_oatk=OA_Ak, p5_ginc=4900)\n",
    "\n",
    "pd.set_option('display.max_rows', 10)\n",
    "df_pe = df_.copy()\n",
    "\n",
    "df_pe"
   ]
  },
  {
   "cell_type": "markdown",
   "metadata": {},
   "source": [
    "<p style = \"font-family: Calibri Light; font-size:1.3em;color:black; LINE-HEIGHT:25px\"> Una vez descargados los datos, se grafican con la ayuda del archivo de visualizaciones que se importó anteriormente. Dando como resultado una <a href='https://mercadoforex.net/grafico-velas'> gráfica de velas</a>, la cual muestra información del precio de apertura, cierre, máximo y mínimo, utilizando asimismo colores que representan si el precio de cierre fue mayor o menor que el precio de apertura.</p>"
   ]
  },
  {
   "cell_type": "code",
   "execution_count": 3,
   "metadata": {},
   "outputs": [],
   "source": [
    "# Grafica de velas\n",
    "vs_grafica1 = vs.g_velas(p0_de=df_pe.iloc[0:120, :])\n",
    "vs_grafica1.show()"
   ]
  },
  {
   "cell_type": "markdown",
   "metadata": {},
   "source": [
    "<p style = \"font-family: Calibri Light; font-size:1.3em;color:black; LINE-HEIGHT:25px\"> Se empieza a extraer información que puede ser relevante de las series de tiempo, empezando por la hora, la cual, como la mayoría de las características que se obtienen, se hace utilizando una comprensión de listas.</p>\n",
    "\n",
    "**Hora de la vela**\n",
    "\n",
    "* <p style = \"font-family: Calibri Light; font-size:1.3em;color:black; LINE-HEIGHT:25px\"> La hora expresada en formato de 24hrs, en la que ocurrió la vela. </p>\n"
   ]
  },
  {
   "cell_type": "code",
   "execution_count": 4,
   "metadata": {},
   "outputs": [],
   "source": [
    "# -- 0A.1: Hora\n",
    "df_pe['Hour'] = [df_pe['TimeStamp'][i].hour for i in range(0, len(df_pe['TimeStamp']))]"
   ]
  },
  {
   "cell_type": "markdown",
   "metadata": {},
   "source": [
    "**Dia de la semana de la vela**\n",
    "\n",
    "* <p style = \"font-family: Calibri Light; font-size:1.3em;color:black; LINE-HEIGHT:25px\"> Día de la semana en formato numérico (0 = domingo, 1 = lunes, etc), en el que ocurrió la vela. </p>\n"
   ]
  },
  {
   "cell_type": "code",
   "execution_count": 5,
   "metadata": {},
   "outputs": [],
   "source": [
    "# -- 0A.2: Dia de la semana.\n",
    "df_pe['Day'] = [df_pe['TimeStamp'][i].weekday() for i in range(0, len(df_pe['TimeStamp']))]"
   ]
  },
  {
   "cell_type": "markdown",
   "metadata": {},
   "source": [
    "**Boxplot de amplitud de velas (close - open)**\n",
    "\n",
    "* <p style = \"font-family: Calibri Light; font-size:1.3em;color:black; LINE-HEIGHT:25px\"> Diagrama de caja y bigote para visualizar la dispersión de los \"pips\" de diferencia entre el precio Close y el precio Open de cada vela. También para resaltar los atípicos de los datos utilizados. </p>"
   ]
  },
  {
   "cell_type": "code",
   "execution_count": 6,
   "metadata": {},
   "outputs": [],
   "source": [
    "# Multiplicador de precios\n",
    "pip_mult = 10000\n",
    "\n",
    "# -- 0B: Boxplot de amplitud de velas (close - open).\n",
    "df_pe['CO'] = (df_pe['Close'] - df_pe['Open'])*pip_mult\n",
    "\n",
    "# -- Graficar Boxplot plotly -- #\n",
    "vs_grafica2 = vs.g_boxplot_varios(p0_data=df_pe[['CO']], p1_norm=False)\n",
    "vs_grafica2.show()"
   ]
  },
  {
   "cell_type": "markdown",
   "metadata": {},
   "source": [
    "**Mes de la vela**\n",
    "\n",
    "* <p style = \"font-family: Calibri Light; font-size:1.3em;color:black; LINE-HEIGHT:25px\"> Utilizando la columna de TimeStamp se calcula el \"Mes\" en el que ocurrió la vela. </p>\n"
   ]
  },
  {
   "cell_type": "code",
   "execution_count": 7,
   "metadata": {},
   "outputs": [],
   "source": [
    "# -- 1pt: Mes en el que ocurrio la vela\n",
    "df_pe['Month'] = [df_pe['TimeStamp'][i].month for i in range(0, len(df_pe['TimeStamp']))]"
   ]
  },
  {
   "cell_type": "markdown",
   "metadata": {},
   "source": [
    "**Sesion de la vela**\n",
    "\n",
    "* <p style = \"font-family: Calibri Light; font-size:1.3em;color:black; LINE-HEIGHT:25px\"> Sesión bursátil en la que ocurrió la vela,  el valor dentro de la columna deberás de colocarlo siguiendo la siguiente regla: </p>\n",
    "\n",
    "|  Zona             |   Hora|\n",
    "|---\t            |:-:\t|\n",
    "|  `Asia`           |   22, 23, 0, 1, 2, 3, 4, 5, 6, 7\t|\n",
    "|  `Asia_Europa` \t|   8\t|\n",
    "|  `Europa` \t    |   9, 10, 11, 12 \t|\n",
    "|  `Europa_America` |   13, 14, 15, 16\t|\n",
    "|  `America` \t    |   17, 18, 19, 20, 21\t|\n",
    "\n",
    "\n",
    "**<p style = \"font-family: Calibri Light; font-size:1.0em;color:gray; LINE-HEIGHT:25px\"> Recuerda que el 'TimeStamp' de los precios que están descargándose en el código está en huso horario UTC, así que no aplicará a las horas de Guadalajara\", sino, a las horas de cualquier centro bursátil que esté bajo el huso horario UTC, como lo es el caso de Londres que tiene huso horario GMT = 0. </p>**\n",
    "\n"
   ]
  },
  {
   "cell_type": "code",
   "execution_count": 8,
   "metadata": {},
   "outputs": [],
   "source": [
    "# -- 1pt: Sesion\n",
    "# Función con las condiciones antes dadas, de acuerdo a la hora se le asigna una zona donde ocurrio tal precio\n",
    "def sesion_vela(hora):\n",
    "    if hora in [22, 23, 0, 1, 2, 3, 4, 5, 6, 7]:\n",
    "        ans = 'asia'\n",
    "    elif hora == 8:\n",
    "        ans = 'asia_europa'\n",
    "    elif hora in [9, 10, 11, 12]:\n",
    "        ans = 'europa'\n",
    "    elif hora in [13, 14, 15, 16]:\n",
    "        ans = 'europa_america'\n",
    "    else:\n",
    "        ans = 'america'\n",
    "    return ans"
   ]
  },
  {
   "cell_type": "code",
   "execution_count": 9,
   "metadata": {},
   "outputs": [],
   "source": [
    "# Utilizar la función en una comprensión de listas para las horas de las velas y agregarlo al DataFrame\n",
    "df_pe['Sesion'] = [sesion_vela(df_pe['Hour'][i]) for i in range(len(df_pe['Hour']))]"
   ]
  },
  {
   "cell_type": "markdown",
   "metadata": {},
   "source": [
    "**Amplitud de vela (en pips).**\n",
    "\n",
    "* <p style = \"font-family: Calibri Light; font-size:1.3em;color:black; LINE-HEIGHT:25px\"> Calcular la diferencia entre las columnas Open y Close, expresarla en pips. </p>\n"
   ]
  },
  {
   "cell_type": "code",
   "execution_count": 10,
   "metadata": {},
   "outputs": [],
   "source": [
    "# -- 1pt: OC (Open-Close)\n",
    "df_pe['OC'] = (df_pe['Open'] - df_pe['Close'])*pip_mult"
   ]
  },
  {
   "cell_type": "markdown",
   "metadata": {},
   "source": [
    "**Amplitud de extremos (en pips).**\n",
    "\n",
    "* <p style = \"font-family: Calibri Light; font-size:1.3em;color:black; LINE-HEIGHT:25px\"> Calcular la diferencia entre las columnas High y Low, expresarla en pips. </p>\n"
   ]
  },
  {
   "cell_type": "code",
   "execution_count": 11,
   "metadata": {},
   "outputs": [],
   "source": [
    "# -- 1pt: HL (High-Low)\n",
    "df_pe['HL'] = (df_pe['High'] - df_pe['Low'])*pip_mult"
   ]
  },
  {
   "cell_type": "markdown",
   "metadata": {},
   "source": [
    "**Sentido de la vela (alcista o bajista)**\n",
    "\n",
    "* <p style = \"font-family: Calibri Light; font-size:1.3em;color:black; LINE-HEIGHT:25px\"> En esta columna debes de asignarle el valor de 'alcista' para cuando Close >= Open y 'bajista' en el caso contrario. </p>\n"
   ]
  },
  {
   "cell_type": "code",
   "execution_count": 12,
   "metadata": {},
   "outputs": [],
   "source": [
    "# -- 0.5pt: Sentido (Tendencia)\n",
    "df_pe['Tendency'] = ['alcista' if df_pe['Close'][i] >= df_pe['Open'][i] else 'bajista' for i in range(len(df_pe['Open']))]"
   ]
  },
  {
   "cell_type": "markdown",
   "metadata": {},
   "source": [
    "**Conteo de velas consecutivas alcistas/bajistas.**\n",
    "\n",
    "* <p style = \"font-family: Calibri Light; font-size:1.3em;color:black; LINE-HEIGHT:25px\"> En el DataFrame de los precios OHLC, para cada renglon, ir acumulando el valor de velas consecutivas ALCISTAS o BAJISTAS e ir haciendo el conteo de ocurrencia para cada caso. Se comienza el conteo a partir de la primera repetición, por ejemplo, ['sentido_c'] tendrá un 2  en el tiempo t cuando en el tiempo t-2 y tiempo t-1 haya sido el mismo valor que en el tiempo t. En este ejemplo ['sentido_c'] tendría un 2 (en el tiempo t-2 fue la primera vela, y la vela en tiempo t-1 y en tiempo t fueron 2 velas fueron consecutivamente en el mismo sentido). </p>"
   ]
  },
  {
   "cell_type": "code",
   "execution_count": 13,
   "metadata": {},
   "outputs": [],
   "source": [
    "# -- 0.5pt: Sentido_c (Contar la consecutividad que hay en las tendencias)\n",
    "# Primero creando una funcion sencilla que cuente si 'a' (t1) es igual a 'b' (t2), sumar uno, de lo contrario reiniciar\n",
    "def conteo(count, a, b):\n",
    "    if a == b:\n",
    "        count += 1\n",
    "    else:\n",
    "        count = 0\n",
    "    return  count\n",
    "\n",
    "count = [0]"
   ]
  },
  {
   "cell_type": "code",
   "execution_count": 14,
   "metadata": {},
   "outputs": [],
   "source": [
    "# Hacer uso de la función, con una comprension de listas\n",
    "temp = [count.append(conteo(count[i], df_pe['Tendency'][i], df_pe['Tendency'][i+1])) for i in range(len(df_pe['Tendency'])-1)]\n",
    "df_pe['Count'] = count"
   ]
  },
  {
   "cell_type": "code",
   "execution_count": 15,
   "metadata": {},
   "outputs": [
    {
     "data": {
      "text/html": [
       "<div>\n",
       "<style scoped>\n",
       "    .dataframe tbody tr th:only-of-type {\n",
       "        vertical-align: middle;\n",
       "    }\n",
       "\n",
       "    .dataframe tbody tr th {\n",
       "        vertical-align: top;\n",
       "    }\n",
       "\n",
       "    .dataframe thead th {\n",
       "        text-align: right;\n",
       "    }\n",
       "</style>\n",
       "<table border=\"1\" class=\"dataframe\">\n",
       "  <thead>\n",
       "    <tr style=\"text-align: right;\">\n",
       "      <th></th>\n",
       "      <th>TimeStamp</th>\n",
       "      <th>Open</th>\n",
       "      <th>High</th>\n",
       "      <th>Low</th>\n",
       "      <th>Close</th>\n",
       "      <th>Hour</th>\n",
       "      <th>Day</th>\n",
       "      <th>CO</th>\n",
       "      <th>Month</th>\n",
       "      <th>Sesion</th>\n",
       "      <th>OC</th>\n",
       "      <th>HL</th>\n",
       "      <th>Tendency</th>\n",
       "      <th>Count</th>\n",
       "    </tr>\n",
       "  </thead>\n",
       "  <tbody>\n",
       "    <tr>\n",
       "      <th>0</th>\n",
       "      <td>2019-07-07 21:00:00+00:00</td>\n",
       "      <td>1.12248</td>\n",
       "      <td>1.12275</td>\n",
       "      <td>1.12240</td>\n",
       "      <td>1.12275</td>\n",
       "      <td>21</td>\n",
       "      <td>6</td>\n",
       "      <td>2.7</td>\n",
       "      <td>7</td>\n",
       "      <td>america</td>\n",
       "      <td>-2.7</td>\n",
       "      <td>3.5</td>\n",
       "      <td>alcista</td>\n",
       "      <td>0</td>\n",
       "    </tr>\n",
       "    <tr>\n",
       "      <th>1</th>\n",
       "      <td>2019-07-07 22:00:00+00:00</td>\n",
       "      <td>1.12278</td>\n",
       "      <td>1.12292</td>\n",
       "      <td>1.12256</td>\n",
       "      <td>1.12288</td>\n",
       "      <td>22</td>\n",
       "      <td>6</td>\n",
       "      <td>1.0</td>\n",
       "      <td>7</td>\n",
       "      <td>asia</td>\n",
       "      <td>-1.0</td>\n",
       "      <td>3.6</td>\n",
       "      <td>alcista</td>\n",
       "      <td>1</td>\n",
       "    </tr>\n",
       "    <tr>\n",
       "      <th>2</th>\n",
       "      <td>2019-07-07 23:00:00+00:00</td>\n",
       "      <td>1.12286</td>\n",
       "      <td>1.12286</td>\n",
       "      <td>1.12266</td>\n",
       "      <td>1.12268</td>\n",
       "      <td>23</td>\n",
       "      <td>6</td>\n",
       "      <td>-1.8</td>\n",
       "      <td>7</td>\n",
       "      <td>asia</td>\n",
       "      <td>1.8</td>\n",
       "      <td>2.0</td>\n",
       "      <td>bajista</td>\n",
       "      <td>0</td>\n",
       "    </tr>\n",
       "    <tr>\n",
       "      <th>3</th>\n",
       "      <td>2019-07-08 00:00:00+00:00</td>\n",
       "      <td>1.12270</td>\n",
       "      <td>1.12298</td>\n",
       "      <td>1.12198</td>\n",
       "      <td>1.12212</td>\n",
       "      <td>0</td>\n",
       "      <td>0</td>\n",
       "      <td>-5.8</td>\n",
       "      <td>7</td>\n",
       "      <td>asia</td>\n",
       "      <td>5.8</td>\n",
       "      <td>10.0</td>\n",
       "      <td>bajista</td>\n",
       "      <td>1</td>\n",
       "    </tr>\n",
       "    <tr>\n",
       "      <th>4</th>\n",
       "      <td>2019-07-08 01:00:00+00:00</td>\n",
       "      <td>1.12214</td>\n",
       "      <td>1.12283</td>\n",
       "      <td>1.12210</td>\n",
       "      <td>1.12276</td>\n",
       "      <td>1</td>\n",
       "      <td>0</td>\n",
       "      <td>6.2</td>\n",
       "      <td>7</td>\n",
       "      <td>asia</td>\n",
       "      <td>-6.2</td>\n",
       "      <td>7.3</td>\n",
       "      <td>alcista</td>\n",
       "      <td>0</td>\n",
       "    </tr>\n",
       "    <tr>\n",
       "      <th>...</th>\n",
       "      <td>...</td>\n",
       "      <td>...</td>\n",
       "      <td>...</td>\n",
       "      <td>...</td>\n",
       "      <td>...</td>\n",
       "      <td>...</td>\n",
       "      <td>...</td>\n",
       "      <td>...</td>\n",
       "      <td>...</td>\n",
       "      <td>...</td>\n",
       "      <td>...</td>\n",
       "      <td>...</td>\n",
       "      <td>...</td>\n",
       "      <td>...</td>\n",
       "    </tr>\n",
       "    <tr>\n",
       "      <th>2616</th>\n",
       "      <td>2019-12-05 23:00:00+00:00</td>\n",
       "      <td>1.11043</td>\n",
       "      <td>1.11058</td>\n",
       "      <td>1.11040</td>\n",
       "      <td>1.11040</td>\n",
       "      <td>23</td>\n",
       "      <td>3</td>\n",
       "      <td>-0.3</td>\n",
       "      <td>12</td>\n",
       "      <td>asia</td>\n",
       "      <td>0.3</td>\n",
       "      <td>1.8</td>\n",
       "      <td>bajista</td>\n",
       "      <td>0</td>\n",
       "    </tr>\n",
       "    <tr>\n",
       "      <th>2617</th>\n",
       "      <td>2019-12-06 00:00:00+00:00</td>\n",
       "      <td>1.11042</td>\n",
       "      <td>1.11055</td>\n",
       "      <td>1.11030</td>\n",
       "      <td>1.11030</td>\n",
       "      <td>0</td>\n",
       "      <td>4</td>\n",
       "      <td>-1.2</td>\n",
       "      <td>12</td>\n",
       "      <td>asia</td>\n",
       "      <td>1.2</td>\n",
       "      <td>2.5</td>\n",
       "      <td>bajista</td>\n",
       "      <td>1</td>\n",
       "    </tr>\n",
       "    <tr>\n",
       "      <th>2618</th>\n",
       "      <td>2019-12-06 01:00:00+00:00</td>\n",
       "      <td>1.11033</td>\n",
       "      <td>1.11070</td>\n",
       "      <td>1.11033</td>\n",
       "      <td>1.11065</td>\n",
       "      <td>1</td>\n",
       "      <td>4</td>\n",
       "      <td>3.2</td>\n",
       "      <td>12</td>\n",
       "      <td>asia</td>\n",
       "      <td>-3.2</td>\n",
       "      <td>3.7</td>\n",
       "      <td>alcista</td>\n",
       "      <td>0</td>\n",
       "    </tr>\n",
       "    <tr>\n",
       "      <th>2619</th>\n",
       "      <td>2019-12-06 02:00:00+00:00</td>\n",
       "      <td>1.11068</td>\n",
       "      <td>1.11086</td>\n",
       "      <td>1.11066</td>\n",
       "      <td>1.11076</td>\n",
       "      <td>2</td>\n",
       "      <td>4</td>\n",
       "      <td>0.8</td>\n",
       "      <td>12</td>\n",
       "      <td>asia</td>\n",
       "      <td>-0.8</td>\n",
       "      <td>2.0</td>\n",
       "      <td>alcista</td>\n",
       "      <td>1</td>\n",
       "    </tr>\n",
       "    <tr>\n",
       "      <th>2620</th>\n",
       "      <td>2019-12-06 03:00:00+00:00</td>\n",
       "      <td>1.11074</td>\n",
       "      <td>1.11090</td>\n",
       "      <td>1.11070</td>\n",
       "      <td>1.11077</td>\n",
       "      <td>3</td>\n",
       "      <td>4</td>\n",
       "      <td>0.3</td>\n",
       "      <td>12</td>\n",
       "      <td>asia</td>\n",
       "      <td>-0.3</td>\n",
       "      <td>2.0</td>\n",
       "      <td>alcista</td>\n",
       "      <td>2</td>\n",
       "    </tr>\n",
       "  </tbody>\n",
       "</table>\n",
       "<p>2621 rows × 14 columns</p>\n",
       "</div>"
      ],
      "text/plain": [
       "                     TimeStamp     Open     High      Low    Close  Hour  Day  \\\n",
       "0    2019-07-07 21:00:00+00:00  1.12248  1.12275  1.12240  1.12275    21    6   \n",
       "1    2019-07-07 22:00:00+00:00  1.12278  1.12292  1.12256  1.12288    22    6   \n",
       "2    2019-07-07 23:00:00+00:00  1.12286  1.12286  1.12266  1.12268    23    6   \n",
       "3    2019-07-08 00:00:00+00:00  1.12270  1.12298  1.12198  1.12212     0    0   \n",
       "4    2019-07-08 01:00:00+00:00  1.12214  1.12283  1.12210  1.12276     1    0   \n",
       "...                        ...      ...      ...      ...      ...   ...  ...   \n",
       "2616 2019-12-05 23:00:00+00:00  1.11043  1.11058  1.11040  1.11040    23    3   \n",
       "2617 2019-12-06 00:00:00+00:00  1.11042  1.11055  1.11030  1.11030     0    4   \n",
       "2618 2019-12-06 01:00:00+00:00  1.11033  1.11070  1.11033  1.11065     1    4   \n",
       "2619 2019-12-06 02:00:00+00:00  1.11068  1.11086  1.11066  1.11076     2    4   \n",
       "2620 2019-12-06 03:00:00+00:00  1.11074  1.11090  1.11070  1.11077     3    4   \n",
       "\n",
       "       CO  Month   Sesion   OC    HL Tendency  Count  \n",
       "0     2.7      7  america -2.7   3.5  alcista      0  \n",
       "1     1.0      7     asia -1.0   3.6  alcista      1  \n",
       "2    -1.8      7     asia  1.8   2.0  bajista      0  \n",
       "3    -5.8      7     asia  5.8  10.0  bajista      1  \n",
       "4     6.2      7     asia -6.2   7.3  alcista      0  \n",
       "...   ...    ...      ...  ...   ...      ...    ...  \n",
       "2616 -0.3     12     asia  0.3   1.8  bajista      0  \n",
       "2617 -1.2     12     asia  1.2   2.5  bajista      1  \n",
       "2618  3.2     12     asia -3.2   3.7  alcista      0  \n",
       "2619  0.8     12     asia -0.8   2.0  alcista      1  \n",
       "2620  0.3     12     asia -0.3   2.0  alcista      2  \n",
       "\n",
       "[2621 rows x 14 columns]"
      ]
     },
     "execution_count": 15,
     "metadata": {},
     "output_type": "execute_result"
    }
   ],
   "source": [
    "# Visualizar el DataFrame, al haber agregado todo lo anterior\n",
    "df_pe\n"
   ]
  },
  {
   "cell_type": "markdown",
   "metadata": {},
   "source": [
    "**Ventanas móviles de volatilidad**\n",
    "\n",
    "* <p style = \"font-family: Calibri Light; font-size:1.3em;color:black; LINE-HEIGHT:25px\">Utiliza la columna de 'HL' como una medida de \"volatilidad\" en pips de las velas. Con esta columna, genera las siguientes columnas haciendo una \"ventana móvil\" del máximo de esos últimos n valores. Las columnas serán 3, una para cada valor de la \"volatilidad móvil\" para 5, 25 y 50 velas de histórico respectivamente. </p>\n",
    "\n",
    ">  <p style = \"font-family: Calibri Light; font-size:1.1em;color:black; LINE-HEIGHT:25px\"> a) volatilidad_5 : Utilizando la información de las 5 anteriores velas.</p>\n",
    ">  <p style = \"font-family: Calibri Light; font-size:1.1em;color:black; LINE-HEIGHT:25px\"> b) volatilidad_25: Utilizando la información de las 25 anteriores velas.</p>\n",
    ">  <p style = \"font-family: Calibri Light; font-size:1.1em;color:black; LINE-HEIGHT:25px\"> c) volatilidad_50: Utilizando la información de las 50 anteriores velas.</p>\n",
    "\n",
    "**<p style = \"font-family: Calibri Light; font-size:1.0em;color:gray; LINE-HEIGHT:25px\"> Recuerda que la \"volatilidad\" en una serie de tiempo financiera es, usualmente, la desviación estándar de los rendimientos, sin embargo, uno puedeo proponer otros \"estadísticos\" para representar la \"variabilidad\" entre los datos. En este caso, probaremos generar esta información sólo tomando en cuenta la columna ['hl']. Así que, no es necesario calcular rendimientos en esta ocasión. </p>**\n"
   ]
  },
  {
   "cell_type": "code",
   "execution_count": 16,
   "metadata": {},
   "outputs": [],
   "source": [
    "# -- 1pt: Ventanas moviles de volatilidad\n",
    "vol_5  = df_pe['HL'].rolling(window = 5).std()\n",
    "vol_25 = df_pe['HL'].rolling(window = 25).std() \n",
    "vol_50 = df_pe['HL'].rolling(window = 50).std()\n",
    "#df_pe['Vol_5']"
   ]
  },
  {
   "cell_type": "code",
   "execution_count": 17,
   "metadata": {},
   "outputs": [
    {
     "data": {
      "image/png": "[encoded data removed]",
      "text/plain": [
       "<Figure size 432x360 with 1 Axes>"
      ]
     },
     "metadata": {
      "needs_background": "light"
     },
     "output_type": "display_data"
    }
   ],
   "source": [
    "#%matplotlib notebook\n",
    "d = 205\n",
    "\n",
    "fig = plt.figure(figsize=(6,5))\n",
    "ax = fig.add_subplot(1,1,1)\n",
    "ax.plot(df_pe.index[:d], df_pe['HL'][:d], label = 'HL Deviation')\n",
    "\n",
    "ax.plot(vol_5.index[:d], vol_5[:d], label = ' 5 Day window | Deviation')\n",
    "ax.plot(vol_25.index[:d], vol_25[:d], label = '25 Day window | Deviation')    \n",
    "ax.plot(vol_50.index[:d], vol_50[:d], label = '50 Day window | Deviation')\n",
    "\n",
    "ax.set_xlabel('Hour')\n",
    "ax.set_ylabel('High-Low dif')\n",
    "ax.legend(loc='best');\n",
    "plt.show()"
   ]
  },
  {
   "cell_type": "markdown",
   "metadata": {},
   "source": [
    "**Gráfica con Plotly**\n",
    "\n",
    "* <p style = \"font-family: Calibri Light; font-size:1.3em;color:black; LINE-HEIGHT:25px\"> Realiza una propuesta de gráfica utilizando alguna de las columnas que has generado y la librería plotly. Las reglas son las siguientes: </p>\n",
    "\n",
    ">1. Tiene que tener título de gráfica\n",
    "2. Tiene que tener título de eje x y etiquetas de eje x\n",
    "3. Tiene que tener título de eje y y etiquetas de eje y\n",
    "4. Se debe de poder visualizar una leyenda (en cualquier posición)."
   ]
  },
  {
   "cell_type": "code",
   "execution_count": 30,
   "metadata": {},
   "outputs": [],
   "source": [
    "# -- 1pt: Utilizar Plotly para graficar algo de los datos\n",
    "correlacion = df_.corr()\n",
    "fig = px.imshow(correlacion, title = 'Correlacion')\n",
    "fig.update_layout(xaxis_title = 'data', yaxis_title = 'data')\n",
    "fig.show()"
   ]
  },
  {
   "cell_type": "code",
   "execution_count": null,
   "metadata": {},
   "outputs": [],
   "source": []
  }
 ],
 "metadata": {
  "kernelspec": {
   "display_name": "Python 3",
   "language": "python",
   "name": "python3"
  },
  "language_info": {
   "codemirror_mode": {
    "name": "ipython",
    "version": 3
   },
   "file_extension": ".py",
   "mimetype": "text/x-python",
   "name": "python",
   "nbconvert_exporter": "python",
   "pygments_lexer": "ipython3",
   "version": "3.7.3"
  }
 },
 "nbformat": 4,
 "nbformat_minor": 2
}
